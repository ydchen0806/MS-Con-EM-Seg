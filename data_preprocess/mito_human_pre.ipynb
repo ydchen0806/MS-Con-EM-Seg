{
 "cells": [
  {
   "cell_type": "code",
   "execution_count": 1,
   "metadata": {},
   "outputs": [],
   "source": [
    "import numpy as np \n",
    "import os\n",
    "from multiprocessing import Pool\n",
    "from glob import glob\n",
    "from tqdm import tqdm\n",
    "import h5py\n",
    "import SimpleITK as sitk\n",
    "from PIL import Image\n",
    "from tqdm import tqdm\n",
    "\n",
    "def save_h5(data, save_path, save_name):\n",
    "    with h5py.File(os.path.join(save_path, save_name), 'w') as f:\n",
    "        f.create_dataset('main', data=data,dtype=np.uint8)\n",
    "\n",
    "def read_img(path, size = 1024):\n",
    "    img = Image.open(path)\n",
    "    data = np.array(img)\n",
    "    x,y = data.shape\n",
    "    # 从中点取子图\n",
    "    x = x // 2\n",
    "    y = y // 2\n",
    "    img = []\n",
    "    for i in range(-2, 2):\n",
    "        for j in range(-2 ,2):\n",
    "            img.append(data[x + i * size : x + i * size + size, y + j * size : y + j * size + size])\n",
    "    return img, len(img)"
   ]
  },
  {
   "cell_type": "code",
   "execution_count": 4,
   "metadata": {},
   "outputs": [
    {
     "name": "stderr",
     "output_type": "stream",
     "text": [
      "100%|██████████| 1000/1000 [57:06<00:00,  3.43s/it]   \n"
     ]
    }
   ],
   "source": [
    "K_path = '/braindat/large-scale-EM-data/MitoEM/human/im'\n",
    "K_list = sorted(glob(K_path + '/*png'))\n",
    "K_list_middle = K_list[len(K_list) // 2 - 500 : len(K_list) // 2 + 500]\n",
    "\n",
    "save_path = '/braindat/lab/chenyd/DATASET/miccai_pretrain_data'\n",
    "save_name = 'MitoEM_human'\n",
    "save_path = os.path.join(save_path, save_name)\n",
    "if not os.path.exists(save_path):\n",
    "    os.makedirs(save_path)\n",
    "\n",
    "k = 0\n",
    "temp_hdf = [np.zeros((100, 1024, 1024)) for _ in range(16)]\n",
    "\n",
    "for i in tqdm(range(len(K_list_middle))):\n",
    "    img, num = read_img(K_list_middle[i])\n",
    "    for j in range(num):\n",
    "        #print(img[j].shape)\n",
    "        temp_hdf[j][i % 100] = img[j]\n",
    "        if i % 100 == 99:\n",
    "            for l in range(16):\n",
    "                save_h5(temp_hdf[l], save_path, save_name + '_' + str(i) + '_' + str(l) + '.hdf')"
   ]
  }
 ],
 "metadata": {
  "kernelspec": {
   "display_name": "base",
   "language": "python",
   "name": "python3"
  },
  "language_info": {
   "codemirror_mode": {
    "name": "ipython",
    "version": 3
   },
   "file_extension": ".py",
   "mimetype": "text/x-python",
   "name": "python",
   "nbconvert_exporter": "python",
   "pygments_lexer": "ipython3",
   "version": "3.7.13"
  },
  "orig_nbformat": 4,
  "vscode": {
   "interpreter": {
    "hash": "d4d1e4263499bec80672ea0156c357c1ee493ec2b1c70f0acce89fc37c4a6abe"
   }
  }
 },
 "nbformat": 4,
 "nbformat_minor": 2
}
